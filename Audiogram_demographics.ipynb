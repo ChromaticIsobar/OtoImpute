{
 "cells": [
  {
   "cell_type": "markdown",
   "id": "48d40c2d",
   "metadata": {},
   "source": [
    "# Setup"
   ]
  },
  {
   "cell_type": "code",
   "execution_count": null,
   "id": "7f020267",
   "metadata": {},
   "outputs": [],
   "source": [
    "import i2bmi as i2bmi\n",
    "\n",
    "# Jupyter notebook - widen cells\n",
    "i2bmi.jupyter_widen()"
   ]
  },
  {
   "cell_type": "markdown",
   "id": "dfeaba3f",
   "metadata": {},
   "source": [
    "Read dataset"
   ]
  },
  {
   "cell_type": "code",
   "execution_count": null,
   "id": "80a8a8a3",
   "metadata": {},
   "outputs": [],
   "source": [
    "import pandas as pd\n",
    "import numpy as np\n",
    "\n",
    "df_raw = pd.read_excel(\"data/Audiograms.xlsx\")\n",
    "miss_dict = {\"Unknown\": np.nan}\n",
    "df_raw.replace(miss_dict, inplace=True)\n",
    "\n",
    "df_raw.head()"
   ]
  },
  {
   "cell_type": "markdown",
   "id": "a29ff21b",
   "metadata": {},
   "source": [
    "Audiogram-only dataset"
   ]
  },
  {
   "cell_type": "code",
   "execution_count": null,
   "id": "0bdb811b",
   "metadata": {},
   "outputs": [],
   "source": [
    "ag_cols = [\n",
    "    \"125hz\", \"250hz\", \"500hz\", \"750hz\", \"1000hz\", \"1500hz\", \"2000hz\", \"3000hz\",\n",
    "    \"4000hz\", \"6000hz\", \"8000hz\"\n",
    "]\n",
    "\n",
    "print(\"Original size:\", df_raw.shape)\n",
    "\n",
    "df = df_raw.loc[df_raw[\"Age\"] > 17, :]\n",
    "print(\"Filtered (age > 17):\", df.shape)\n",
    "\n",
    "df = df[ag_cols]\n",
    "print(\"Audiogram only:\", df.shape)\n",
    "\n",
    "for i in range(6):\n",
    "    print(f\"Dropna (thresh={i + 1}):\", df.dropna(thresh=i + 1).shape)\n",
    "df = df.dropna(thresh=1, subset=ag_cols)\n",
    "\n",
    "df.head()"
   ]
  },
  {
   "cell_type": "markdown",
   "id": "baaa7c63",
   "metadata": {},
   "source": [
    "Visualize audiogram correlation"
   ]
  },
  {
   "cell_type": "code",
   "execution_count": null,
   "id": "3bb8ea21",
   "metadata": {},
   "outputs": [],
   "source": [
    "import numpy as np\n",
    "import pandas as pd\n",
    "import seaborn as sns\n",
    "import matplotlib.pyplot as plt\n",
    "\n",
    "sns.set_theme(style=\"white\")\n",
    "\n",
    "corr = df.corr()\n",
    "\n",
    "f, ax = plt.subplots(figsize=(11, 9))\n",
    "cmap = sns.diverging_palette(230, 20, as_cmap=True)\n",
    "\n",
    "_ = sns.heatmap(corr,\n",
    "                cmap=cmap,\n",
    "                vmin=-1,\n",
    "                vmax=1,\n",
    "                annot=True,\n",
    "                square=True,\n",
    "                linewidths=.5,\n",
    "                cbar_kws={\"shrink\": .5})"
   ]
  },
  {
   "cell_type": "markdown",
   "id": "b3d43415",
   "metadata": {
    "heading_collapsed": true
   },
   "source": [
    "# Visualize Missing Values\n",
    "## Audiogram"
   ]
  },
  {
   "cell_type": "code",
   "execution_count": null,
   "id": "330f3b1d",
   "metadata": {},
   "outputs": [],
   "source": [
    "df.describe().round(1).drop(\"count\").transpose().rename(\n",
    "    columns={\"50%\": \"median\"})"
   ]
  },
  {
   "cell_type": "code",
   "execution_count": null,
   "id": "ebf063f5",
   "metadata": {
    "hidden": true
   },
   "outputs": [],
   "source": [
    "from tools.ag_datasets import generate_sparse_dataset\n",
    "import missingno as msno\n",
    "import string\n",
    "\n",
    "dist = [\"parent\", \"random\", \"skew-central\", \"skew-terminal\"]\n",
    "dname = [\"Real-world\", \"Random\", \"Central\", \"Terminal\"]\n",
    "\n",
    "fig, axes = plt.subplots(2, 2, figsize=(11, 11))\n",
    "\n",
    "_ = plt.subplots_adjust(\n",
    "    left=0,  # the left side of the subplots of the figure\n",
    "    right=1,  # the right side of the subplots of the figure\n",
    "    bottom=0.1,  # the bottom of the subplots of the figure\n",
    "    top=0.9,  # the top of the subplots of the figure\n",
    "    wspace=0.35,  # the amount of width reserved for blank space between subplots\n",
    "    hspace=0.3,  # the amount of height reserved for white space between subplots\n",
    ")\n",
    "\n",
    "abc_size = 20\n",
    "\n",
    "for d, dn, ax in zip(dist, dname, axes.ravel()):\n",
    "    X_train, y_train, m_train = generate_sparse_dataset(parent=df,\n",
    "                                                        rate=4,\n",
    "                                                        dist_type=d,\n",
    "                                                        drop_proportion=1,\n",
    "                                                        drop_max=None,\n",
    "                                                        size=500,\n",
    "                                                        prop=1)\n",
    "    _ = msno.matrix(X_train, ax=ax, sparkline=False)\n",
    "    _ = ax.set_xlabel(dn, fontsize=20)\n",
    "\n",
    "for n, ax in enumerate(axes.flat):\n",
    "    _ = ax.text(-0.07,\n",
    "                1.05, (string.ascii_lowercase[n] + \")\"),\n",
    "                transform=ax.transAxes,\n",
    "                size=abc_size,\n",
    "                weight=\"bold\")"
   ]
  },
  {
   "cell_type": "code",
   "execution_count": null,
   "id": "6dfc1d4c",
   "metadata": {
    "hidden": true
   },
   "outputs": [],
   "source": [
    "X_train, y_train, m_train = generate_sparse_dataset(parent=df,\n",
    "                                                    rate=3,\n",
    "                                                    dist_type=\"parent\",\n",
    "                                                    drop_proportion=1,\n",
    "                                                    drop_max=None,\n",
    "                                                    size=None,\n",
    "                                                    prop=None)"
   ]
  },
  {
   "cell_type": "markdown",
   "id": "2d68f140",
   "metadata": {
    "heading_collapsed": true
   },
   "source": [
    "## All features"
   ]
  },
  {
   "cell_type": "code",
   "execution_count": null,
   "id": "26437f54",
   "metadata": {},
   "outputs": [],
   "source": [
    "import warnings\n",
    "\n",
    "\n",
    "def reset_xticklabels(ax, **kwargs):\n",
    "    with warnings.catch_warnings():\n",
    "        warnings.simplefilter(\"ignore\")\n",
    "        _ = ax.set_xticklabels(ax.get_xticklabels(), **kwargs)"
   ]
  },
  {
   "cell_type": "code",
   "execution_count": null,
   "id": "06f459a4",
   "metadata": {},
   "outputs": [],
   "source": [
    "# Missing values\n",
    "df_r = df_raw[[\n",
    "    \"Sex\",\n",
    "    \"Race\",\n",
    "    \"Age\",\n",
    "    \"HL_duration\",\n",
    "    \"Etiology\",\n",
    "    \"125hz\",\n",
    "    \"250hz\",\n",
    "    \"500hz\",\n",
    "    \"750hz\",\n",
    "    \"1000hz\",\n",
    "    \"1500hz\",\n",
    "    \"2000hz\",\n",
    "    \"3000hz\",\n",
    "    \"4000hz\",\n",
    "    \"6000hz\",\n",
    "    \"8000hz\",  # \"CNC\", \"AzBio_Quiet\", \"AzBio_5dB\", \"AzBio_10dB\"\n",
    "]]\n",
    "dataset_nullity = df_r.isnull()\n",
    "df_missing = dataset_nullity.sum()\n",
    "df_missing = dataset_nullity.mean() * 100\n",
    "df_missing = pd.DataFrame(df_missing).reset_index()\n",
    "df_missing[0] = df_missing[0].round(2)\n",
    "df_missing.rename(columns={\"index\": \"Feature\", 0: \"% Missing\"}, inplace=True)\n",
    "df_missing.transpose()"
   ]
  },
  {
   "cell_type": "code",
   "execution_count": null,
   "id": "6722605d",
   "metadata": {},
   "outputs": [],
   "source": [
    "df_r.describe().round(1).drop(\"count\").transpose().rename(columns={\n",
    "    \"50%\": \"median\"\n",
    "}).transpose()"
   ]
  },
  {
   "cell_type": "code",
   "execution_count": null,
   "id": "2e0d796d",
   "metadata": {},
   "outputs": [],
   "source": [
    "def col_frequencies(df: pd.DataFrame,\n",
    "                    col: str,\n",
    "                    in_replace: dict = None,\n",
    "                    out_rename: dict = None):\n",
    "    c = df[[col]]\n",
    "    if in_replace is not None:\n",
    "        c = c.replace(in_replace)\n",
    "    df_c = pd.DataFrame(c.value_counts()).reset_index()\n",
    "    if out_rename is not None:\n",
    "        df_c.rename(columns=out_rename, inplace=True)\n",
    "    return df_c"
   ]
  },
  {
   "cell_type": "markdown",
   "id": "8e7ef4e1",
   "metadata": {},
   "source": [
    "### Sex"
   ]
  },
  {
   "cell_type": "code",
   "execution_count": null,
   "id": "49587fc6",
   "metadata": {},
   "outputs": [],
   "source": [
    "df_sex = col_frequencies(df_raw, \"Sex\", out_rename={\"count\": \"# Audiograms\"})\n",
    "df_sex.transpose()"
   ]
  },
  {
   "cell_type": "code",
   "execution_count": null,
   "id": "9dd903ac",
   "metadata": {},
   "outputs": [],
   "source": [
    "fig, axes = plt.subplots(nrows=1,\n",
    "                         ncols=1,\n",
    "                         figsize=(10, 8),\n",
    "                         sharey=False,\n",
    "                         squeeze=False)\n",
    "\n",
    "sns.set_theme()\n",
    "palette = sns.color_palette(\"bright\", df_sex.shape[0])\n",
    "sns.set_style(\"ticks\", {\"axes.grid\": True})\n",
    "\n",
    "for ax in axes.ravel():\n",
    "    ax = sns.barplot(x=\"Sex\", y=\"# Audiograms\", data=df_sex)\n",
    "    reset_xticklabels(ax, rotation=0)\n",
    "    for container in ax.containers:\n",
    "        _ = ax.bar_label(container, label_type=\"edge\", fmt=\"%.0f\")"
   ]
  },
  {
   "cell_type": "markdown",
   "id": "7ec35828",
   "metadata": {},
   "source": [
    "### Etiology"
   ]
  },
  {
   "cell_type": "code",
   "execution_count": null,
   "id": "c7921f06",
   "metadata": {},
   "outputs": [],
   "source": [
    "eti_shortform = {\n",
    "    \"Medication/Radiation\": \"Meds/Rad\",\n",
    "    \"Hereditary/Familial\": \"Hereditary\",\n",
    "    \"Meniere's Disease\": \"Meniere's\",\n",
    "    \"Noise Exposure\": \"Noise\",\n",
    "    \"Sudden Hearing Loss\": \"SSNHL\",\n",
    "    \"Meningitis\": \"Infection\",\n",
    "    \"Other\": \"  Other\",\n",
    "    \"Otosclerosis\": \"Otosclerosis\",\n",
    "    \"Head Trauma\": \"Trauma\",\n",
    "    \"Genetic\": \"Hereditary\",\n",
    "    \"Acoustic Neuroma\": \"Ac. Neuroma\"\n",
    "}\n",
    "\n",
    "df_eti = col_frequencies(df_raw,\n",
    "                         \"Etiology\",\n",
    "                         out_rename={\"count\": \"# Audiograms\"},\n",
    "                         in_replace=eti_shortform)\n",
    "df_eti.transpose()"
   ]
  },
  {
   "cell_type": "code",
   "execution_count": null,
   "id": "3aa5115c",
   "metadata": {},
   "outputs": [],
   "source": [
    "fig, axes = plt.subplots(nrows=1,\n",
    "                         ncols=1,\n",
    "                         figsize=(20, 8),\n",
    "                         sharey=False,\n",
    "                         squeeze=False)\n",
    "\n",
    "sns.set_theme()\n",
    "palette = sns.color_palette(\"bright\", df_eti.shape[0])\n",
    "sns.set_style(\"ticks\", {\"axes.grid\": True})\n",
    "for ax in axes.ravel():\n",
    "    ax = sns.barplot(x=\"Etiology\", y=\"# Audiograms\", data=df_eti)\n",
    "    reset_xticklabels(ax, rotation=20)\n",
    "    for container in ax.containers:\n",
    "        _ = ax.bar_label(container, label_type=\"edge\", fmt=\"%.0f\")"
   ]
  },
  {
   "cell_type": "markdown",
   "id": "d8799fa3",
   "metadata": {},
   "source": [
    "### Audiogram"
   ]
  },
  {
   "cell_type": "code",
   "execution_count": null,
   "id": "4dec58af",
   "metadata": {},
   "outputs": [],
   "source": [
    "df_ag = df_raw[ag_cols]\n",
    "df_ag.columns = [int(s[:-2]) for s in ag_cols]\n",
    "df_ag.dropna(thresh=5).head()"
   ]
  },
  {
   "cell_type": "code",
   "execution_count": null,
   "id": "ea5aa335",
   "metadata": {},
   "outputs": [],
   "source": [
    "from tools.ag_datasets import find_parent_frequency\n",
    "\n",
    "num_drop_weights, col_drop_weights = find_parent_frequency(df_ag,\n",
    "                                                           min_col=1,\n",
    "                                                           verbose=0)\n",
    "df_drops = pd.DataFrame([np.round(x * 100, 1)\n",
    "                         for x in num_drop_weights]).reset_index()\n",
    "df_drops.rename(columns={\n",
    "    \"index\": \"# Frequencies Missing\",\n",
    "    0: \"% Audiograms\"\n",
    "},\n",
    "                inplace=True)\n",
    "df_drops.transpose()"
   ]
  },
  {
   "cell_type": "code",
   "execution_count": null,
   "id": "0295bfd0",
   "metadata": {},
   "outputs": [],
   "source": [
    "fig, ax = plt.subplots(1, 1, figsize=(20, 12))\n",
    "ax.set_ylim(130, -10)\n",
    "ax.set_ylabel(\"Hearing level (dB)\")\n",
    "ax.set_xlabel(\"Frequency\")\n",
    "\n",
    "_ = sns.boxplot(data=df_ag, ax=ax)"
   ]
  },
  {
   "cell_type": "markdown",
   "id": "275a1b54",
   "metadata": {},
   "source": [
    "### Age"
   ]
  },
  {
   "cell_type": "code",
   "execution_count": null,
   "id": "e29fc7cf",
   "metadata": {},
   "outputs": [],
   "source": [
    "df_age = df_raw[[\"Age\", \"HL_duration\"]]\n",
    "df_age.dropna(thresh=2).head()"
   ]
  },
  {
   "cell_type": "code",
   "execution_count": null,
   "id": "adcf28e2",
   "metadata": {},
   "outputs": [],
   "source": [
    "ax1 = sns.set_style(style=None, rc=None)\n",
    "fig, ax1 = plt.subplots(figsize=(6, 6))\n",
    "_ = sns.boxplot(data=df_age, ax=ax1)"
   ]
  },
  {
   "cell_type": "markdown",
   "id": "c31ee9dd",
   "metadata": {},
   "source": [
    "### Plots"
   ]
  },
  {
   "cell_type": "code",
   "execution_count": null,
   "id": "76ff95fa",
   "metadata": {},
   "outputs": [],
   "source": [
    "def set_theme(subplot_labels=False):\n",
    "    sns.set_theme()\n",
    "    sns.set_style(\"ticks\", {\"axes.grid\": True})\n",
    "    sns.set_theme(rc={\n",
    "        \"figure.figsize\": (11.7, 8.27),\n",
    "        \"font.size\": 20,\n",
    "        \"axes.titlesize\": 20,\n",
    "        \"axes.labelsize\": 12\n",
    "    },\n",
    "                  style=\"white\")\n",
    "    # sns.set_theme(rc={\"figure.figsize\": (11.7, 8.27)}, style=\"white\")\n",
    "\n",
    "    fig, axes = plt.subplots(nrows=2,\n",
    "                             ncols=3,\n",
    "                             figsize=(27, 16),\n",
    "                             sharey=False,\n",
    "                             squeeze=False)\n",
    "    plt.subplots_adjust(\n",
    "        left=0.125,  # the left side of the subplots of the figure\n",
    "        right=0.9,  # the right side of the subplots of the figure\n",
    "        bottom=0.1,  # the bottom of the subplots of the figure\n",
    "        top=0.9,  # the top of the subplots of the figure\n",
    "        wspace=\n",
    "        0.3,  # the amount of width reserved for blank space between subplots\n",
    "        hspace=\n",
    "        0.3,  # the amount of height reserved for white space between subplots\n",
    "    )\n",
    "    if subplot_labels:\n",
    "        for i in range(axes.size):\n",
    "            ax = axes.flatten()[i]\n",
    "            ax.text(-0.1,\n",
    "                    1.15,\n",
    "                    chr(ord(\"A\") + i),\n",
    "                    transform=ax.transAxes,\n",
    "                    fontsize=16,\n",
    "                    fontweight=\"bold\",\n",
    "                    va=\"top\",\n",
    "                    ha=\"right\")\n",
    "    return fig, axes"
   ]
  },
  {
   "cell_type": "code",
   "execution_count": null,
   "id": "b09c2f1a",
   "metadata": {},
   "outputs": [],
   "source": [
    "import warnings\n",
    "\n",
    "font_subheader = {\"size\": 30, \"weight\": \"bold\"}\n",
    "default_palette = sns.color_palette(\"pastel\", 1)\n",
    "default_ticksize = 20\n",
    "\n",
    "\n",
    "def plot_audiogram_drops(ax,\n",
    "                         palette=default_palette,\n",
    "                         fontdict=font_subheader,\n",
    "                         ticksize=default_ticksize):\n",
    "    with warnings.catch_warnings():\n",
    "        warnings.simplefilter(\"ignore\")\n",
    "        bp = sns.barplot(x=df_drops[\"# Frequencies Missing\"],\n",
    "                         y=df_drops[\"% Audiograms\"],\n",
    "                         data=df_drops,\n",
    "                         palette=palette,\n",
    "                         legend=False,\n",
    "                         ax=ax)\n",
    "\n",
    "    _ = ax.set(ylim=[0, 24])\n",
    "    reset_xticklabels(ax, rotation=0, fontsize=ticksize)\n",
    "    _ = ax.tick_params(axis=\"y\", labelsize=ticksize)\n",
    "\n",
    "    _ = ax.set_ylabel(\"% Audiograms\", fontdict=fontdict)\n",
    "    _ = ax.set_xlabel(\"# Frequencies Missing\", fontdict=fontdict)\n",
    "\n",
    "    return bp"
   ]
  },
  {
   "cell_type": "code",
   "execution_count": null,
   "id": "bee98a40",
   "metadata": {},
   "outputs": [],
   "source": [
    "def plot_age_hld(ax,\n",
    "                 palette=default_palette,\n",
    "                 fontdict=font_subheader,\n",
    "                 ticksize=default_ticksize):\n",
    "    with warnings.catch_warnings():\n",
    "        warnings.simplefilter(\"ignore\")\n",
    "        bp = sns.boxplot(data=df_age, ax=ax, width=0.5, palette=palette)\n",
    "    _ = ax.set_xlabel(\"Feature\", fontdict=fontdict)\n",
    "    _ = ax.set_ylabel(\"Years\", fontdict=fontdict)\n",
    "    _ = ax.set(ylim=[0, 109])\n",
    "    reset_xticklabels(ax, rotation=0, fontsize=ticksize)\n",
    "    _ = ax.tick_params(axis=\"y\", labelsize=ticksize)\n",
    "    return bp"
   ]
  },
  {
   "cell_type": "code",
   "execution_count": null,
   "id": "17f71b77",
   "metadata": {},
   "outputs": [],
   "source": [
    "def plot_gender(ax,\n",
    "                palette=default_palette,\n",
    "                fontdict=font_subheader,\n",
    "                ticksize=default_ticksize):\n",
    "    with warnings.catch_warnings():\n",
    "        warnings.simplefilter(\"ignore\")\n",
    "        bp = sns.barplot(x=df_sex[\"Sex\"],\n",
    "                         y=df_sex[\"# Audiograms\"],\n",
    "                         data=df_sex,\n",
    "                         palette=palette,\n",
    "                         ax=ax)\n",
    "    reset_xticklabels(ax, rotation=0, fontsize=ticksize)\n",
    "    _ = ax.tick_params(axis=\"y\", labelsize=ticksize)\n",
    "    # for container in ax.containers:\n",
    "    #     _ = ax.bar_label(container, label_type=\"center\", fmt=\"%.0f\")\n",
    "\n",
    "    _ = ax.set_xlabel(\"Sex\", fontdict=fontdict)\n",
    "    _ = ax.set_ylabel(\"# Audiograms\", fontdict=fontdict)\n",
    "    _ = ax.set_ylim((0, 4800))\n",
    "    return bp"
   ]
  },
  {
   "cell_type": "code",
   "execution_count": null,
   "id": "55bbb9c8",
   "metadata": {},
   "outputs": [],
   "source": [
    "def plot_missing(ax,\n",
    "                 palette=default_palette,\n",
    "                 fontdict=font_subheader,\n",
    "                 ticksize=default_ticksize):\n",
    "    with warnings.catch_warnings():\n",
    "        warnings.simplefilter(\"ignore\")\n",
    "        _ = sns.barplot(x=df_missing[\"Feature\"],\n",
    "                        y=df_missing[\"% Missing\"],\n",
    "                        data=df_missing,\n",
    "                        palette=palette,\n",
    "                        ax=ax)\n",
    "\n",
    "    _ = ax.set(ylim=[0, 99])\n",
    "    reset_xticklabels(ax, rotation=90, fontsize=ticksize)\n",
    "    _ = ax.tick_params(axis=\"y\", labelsize=ticksize)\n",
    "\n",
    "    _ = ax.set_ylabel(\"% Missing\", fontdict=fontdict)\n",
    "    _ = ax.set_xlabel(\"Feature\", fontdict=fontdict, labelpad=2)"
   ]
  },
  {
   "cell_type": "code",
   "execution_count": null,
   "id": "966d9bf9",
   "metadata": {},
   "outputs": [],
   "source": [
    "def plot_audiogram(ax,\n",
    "                   palette=default_palette,\n",
    "                   fontdict=font_subheader,\n",
    "                   ticksize=default_ticksize):\n",
    "    _ = ax.set_ylim(130, -12)\n",
    "    _ = ax.set_ylabel(\"Hearing level (dB)\", fontdict=fontdict)\n",
    "    _ = ax.set_xlabel(\"Frequency\", fontdict=fontdict, labelpad=20)\n",
    "    with warnings.catch_warnings():\n",
    "        warnings.simplefilter(\"ignore\")\n",
    "        bp = sns.boxplot(data=df_ag, palette=palette, ax=ax)\n",
    "    reset_xticklabels(ax, rotation=90, fontsize=ticksize)\n",
    "    _ = ax.tick_params(axis=\"y\", labelsize=ticksize)\n",
    "    return bp"
   ]
  },
  {
   "cell_type": "code",
   "execution_count": null,
   "id": "8c6f49e8",
   "metadata": {},
   "outputs": [],
   "source": [
    "def plot_etiology(ax,\n",
    "                  palette=default_palette,\n",
    "                  fontdict=font_subheader,\n",
    "                  ticksize=default_ticksize):\n",
    "    with warnings.catch_warnings():\n",
    "        warnings.simplefilter(\"ignore\")\n",
    "        bp = sns.barplot(x=df_eti[\"Etiology\"],\n",
    "                         y=df_eti[\"# Audiograms\"],\n",
    "                         data=df_eti,\n",
    "                         palette=palette,\n",
    "                         ax=ax)\n",
    "\n",
    "    _ = ax.set_ylim((0, ax.get_ylim()[1]))  # 5900\n",
    "    reset_xticklabels(ax, rotation=90, fontsize=ticksize)\n",
    "    _ = ax.tick_params(axis=\"y\", labelsize=ticksize)\n",
    "    _ = ax.set_ylabel(\"# Audiograms\", fontdict=fontdict)\n",
    "    _ = ax.set_xlabel(\"Etiology\", fontdict=fontdict, labelpad=-11)\n",
    "    return bp"
   ]
  },
  {
   "cell_type": "code",
   "execution_count": null,
   "id": "05653e4a",
   "metadata": {},
   "outputs": [],
   "source": [
    "fig, axes = set_theme()\n",
    "_ = plot_audiogram_drops(axes[0, 0])\n",
    "_ = plot_age_hld(axes[0, 1])\n",
    "_ = plot_gender(axes[0, 2])\n",
    "_ = plot_missing(axes[1, 0])\n",
    "_ = plot_audiogram(axes[1, 1])\n",
    "_ = plot_etiology(axes[1, 2])\n",
    "\n",
    "for n, ax in enumerate(axes.flat):\n",
    "    _ = ax.text(-0.09,\n",
    "                0.98, (string.ascii_lowercase[n] + \")\"),\n",
    "                transform=ax.transAxes,\n",
    "                size=35,\n",
    "                weight=\"bold\")"
   ]
  },
  {
   "cell_type": "markdown",
   "id": "508bfcac",
   "metadata": {
    "heading_collapsed": true
   },
   "source": [
    "## Table of missing value percents"
   ]
  },
  {
   "cell_type": "code",
   "execution_count": null,
   "id": "fae67dee",
   "metadata": {},
   "outputs": [],
   "source": [
    "dataset_nullity = df_r.isnull()\n",
    "pd.DataFrame(dataset_nullity.sum()).rename(columns={\n",
    "    \"index\": \"Feature\",\n",
    "    0: \"# Missing\"\n",
    "}).transpose()"
   ]
  },
  {
   "cell_type": "markdown",
   "id": "e777214c",
   "metadata": {},
   "source": [
    "As a percentage"
   ]
  },
  {
   "cell_type": "code",
   "execution_count": null,
   "id": "00f9d45d",
   "metadata": {},
   "outputs": [],
   "source": [
    "missing_values_percent = pd.DataFrame(\n",
    "    (dataset_nullity.mean() * 100)).reset_index()\n",
    "missing_values_percent.rename(columns={\n",
    "    \"index\": \"Feature\",\n",
    "    0: \"% Missing\"\n",
    "},\n",
    "                              inplace=True)\n",
    "missing_values_percent.round(2).transpose()"
   ]
  },
  {
   "cell_type": "code",
   "execution_count": null,
   "id": "41734aa7",
   "metadata": {
    "hidden": true
   },
   "outputs": [],
   "source": [
    "fig, axes = plt.subplots(nrows=1,\n",
    "                         ncols=1,\n",
    "                         figsize=(10, 8),\n",
    "                         sharey=False,\n",
    "                         squeeze=False)\n",
    "\n",
    "sns.set_theme()\n",
    "palette = sns.color_palette(\"bright\", missing_values_percent.shape[0])\n",
    "sns.set_style(\"ticks\", {\"axes.grid\": True})\n",
    "\n",
    "for ax in axes.ravel():\n",
    "    ax = sns.barplot(x=missing_values_percent[\"Feature\"],\n",
    "                     y=missing_values_percent[\"% Missing\"],\n",
    "                     data=missing_values_percent)\n",
    "    _ = ax.set(ylim=[0, 100], )\n",
    "    reset_xticklabels(ax, rotation=30)\n",
    "    for container in ax.containers:\n",
    "        _ = ax.bar_label(container, label_type=\"edge\", fmt=\"%.1f\")"
   ]
  },
  {
   "cell_type": "markdown",
   "id": "da8492fd",
   "metadata": {
    "heading_collapsed": true
   },
   "source": [
    "## Percentage of audiograms with X number dropped"
   ]
  },
  {
   "cell_type": "code",
   "execution_count": null,
   "id": "1305b657",
   "metadata": {
    "hidden": true
   },
   "outputs": [],
   "source": [
    "num_drop_weights, col_drop_weights = find_parent_frequency(df_ag,\n",
    "                                                           min_col=1,\n",
    "                                                           verbose=0)\n",
    "\n",
    "df_drops = pd.DataFrame([np.round(x * 100, 1)\n",
    "                         for x in num_drop_weights]).reset_index()\n",
    "df_drops.rename(columns={\n",
    "    \"index\": \"# dropped\",\n",
    "    0: \"% of audiograms\"\n",
    "},\n",
    "                inplace=True)\n",
    "df_drops.transpose()"
   ]
  },
  {
   "cell_type": "code",
   "execution_count": null,
   "id": "17f43119",
   "metadata": {
    "hidden": true
   },
   "outputs": [],
   "source": [
    "fig, axes = plt.subplots(nrows=1,\n",
    "                         ncols=1,\n",
    "                         figsize=(10, 8),\n",
    "                         sharey=False,\n",
    "                         squeeze=False)\n",
    "\n",
    "sns.set_theme()\n",
    "palette = sns.color_palette(\"bright\", missing_values_percent.shape[0])\n",
    "sns.set_style(\"ticks\", {\"axes.grid\": True})\n",
    "\n",
    "for ax in axes.ravel():\n",
    "    ax = sns.barplot(x=\"# dropped\", y=\"% of audiograms\", data=df_drops)\n",
    "    _ = ax.set(ylim=[0, 25], )\n",
    "    reset_xticklabels(ax, rotation=0)\n",
    "    for container in ax.containers:\n",
    "        _ = ax.bar_label(container, label_type=\"edge\", fmt=\"%.1f\")"
   ]
  },
  {
   "cell_type": "markdown",
   "id": "2eaec463",
   "metadata": {
    "heading_collapsed": true
   },
   "source": [
    "### ..."
   ]
  }
 ],
 "metadata": {
  "kernelspec": {
   "display_name": "Python 3 (ipykernel)",
   "language": "python",
   "name": "python3"
  },
  "language_info": {
   "codemirror_mode": {
    "name": "ipython",
    "version": 3
   },
   "file_extension": ".py",
   "mimetype": "text/x-python",
   "name": "python",
   "nbconvert_exporter": "python",
   "pygments_lexer": "ipython3",
   "version": "3.9.12"
  },
  "toc": {
   "base_numbering": 1,
   "nav_menu": {},
   "number_sections": true,
   "sideBar": true,
   "skip_h1_title": false,
   "title_cell": "Table of Contents",
   "title_sidebar": "Contents",
   "toc_cell": false,
   "toc_position": {},
   "toc_section_display": true,
   "toc_window_display": false
  }
 },
 "nbformat": 4,
 "nbformat_minor": 5
}
